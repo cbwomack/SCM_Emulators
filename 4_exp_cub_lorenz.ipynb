{
 "cells": [
  {
   "cell_type": "code",
   "execution_count": null,
   "metadata": {},
   "outputs": [],
   "source": [
    "import utils_cubic_Lorenz\n",
    "import utils_emulator\n",
    "import numpy as np\n",
    "\n",
    "%load_ext autoreload\n",
    "%autoreload 2"
   ]
  },
  {
   "cell_type": "markdown",
   "metadata": {},
   "source": [
    "## Experiment 4: Cubic Lorenz System (weak nonlinearities)\n",
    "\n",
    "This notebook runs the coupled three box model for the following scenarios and emulation techniques:\n",
    "\n",
    "Scenarios:\n",
    "1. Abrupt - An abrupt doubling of CO2 concentration; corresponds roughly to the *Abrupt2xCO2* CMIP experiment.\n",
    "2. High Emissions - An exponential increase of CO2 concentration in time; corresponds roughly to *SSP585*.\n",
    "3. Plateau - An increase in CO2 concentration in time that follows a hyperbolic tangent, increasing exponentially and then tapering off; corresponds roughly to *SSP245*.\n",
    "4. Overshoot - An increase in CO2 concentration in time that follows a Gaussian profile, increasing and decreasingly rapidly; inspired by *SSP119*, but decreases more quickly.\n",
    "\n",
    "Emulators:\n",
    "1. Pattern Scaling - Time-invariant pattern based on linear regression from global mean temperature to local temperature.\n",
    "2. Fluctuation Dissipation Theorem - Response functions derived through perturbation experiment.\n",
    "3. Deconvolution - Response functions solved for from any general experiment.\n",
    "4. Modal Fitting - Response functions fit from any general experiment.\n",
    "5. Dynamic Mode Decomposition (DMD) - Approximating system dynamics with a linear operator.\n",
    "6. Extended DMD - Approximating system dynamics with nonlinear basis functions."
   ]
  },
  {
   "cell_type": "markdown",
   "metadata": {},
   "source": [
    "#### Setup and Run Scenarios\n",
    "\n",
    "Required before creating/evaluating emulators."
   ]
  },
  {
   "cell_type": "code",
   "execution_count": null,
   "metadata": {},
   "outputs": [],
   "source": [
    "# Parameters\n",
    "sigma, beta  = 10.0, 8 / 3\n",
    "rho_base     = 28.0\n",
    "dt           = 0.01\n",
    "delta_rho    = 1.0/dt\n",
    "alpha        = 1/1000\n",
    "t_max_pert   = 5\n",
    "t_max_scen   = 250\n",
    "t_vec_pert   = np.arange(0.0, t_max_pert + dt, dt)\n",
    "t_vec_scen   = np.arange(0.0, t_max_scen + dt, dt)\n",
    "n_steps_pert = t_vec_pert.size\n",
    "n_steps_scen = t_vec_scen.size\n",
    "n_ensemble   = 5_00\n",
    "eps          = 4\n",
    "scenarios    = ['Abrupt','High Emissions','Plateau','Overshoot']\n",
    "\n",
    "rho                         = utils_cubic_Lorenz.gen_rho(t_vec_scen, scenarios)\n",
    "state0, baseline_mean       = utils_cubic_Lorenz.spin_up(n_ensemble, rho_base, sigma, alpha, beta, dt, eps)\n",
    "state_ensemble, state_mean  = utils_cubic_Lorenz.run_Lorenz(scenarios, state0, n_ensemble, n_steps_scen, rho, sigma, alpha, beta, dt, eps)\n",
    "z_ensemble, z_mean, z_std   = utils_cubic_Lorenz.get_z_vals(scenarios, open=False, state_ensemble=state_ensemble, state_mean=state_mean)"
   ]
  },
  {
   "cell_type": "markdown",
   "metadata": {},
   "source": [
    "### Method I: Pattern Scaling"
   ]
  },
  {
   "cell_type": "code",
   "execution_count": null,
   "metadata": {},
   "outputs": [],
   "source": [
    "save_error = False\n",
    "\n",
    "n_choices = 10 # Number of subsamples to take\n",
    "NRMSE_all_PS = utils_emulator.evaluate_ensemble('PS', z_ensemble, z_mean, None, rho, scenarios, n_ensemble, n_choices, cubLor=True)\n",
    "\n",
    "if save_error:\n",
    "  utils_emulator.save_results(NRMSE_all_PS, 'exp4_I_PS_error_ensemble')"
   ]
  },
  {
   "cell_type": "markdown",
   "metadata": {},
   "source": [
    "### Method II: FDT"
   ]
  },
  {
   "cell_type": "code",
   "execution_count": null,
   "metadata": {},
   "outputs": [],
   "source": [
    "R_FDT, state_base_ensemble, state_pert_ensemble = utils_cubic_Lorenz.run_Lorenz_pert(state0, n_ensemble, n_steps_pert, rho_base, sigma, alpha, beta, dt, eps)\n",
    "z_base_ensemble, z_pert_ensemble = state_base_ensemble[:,:,2], state_pert_ensemble[:,:,2]\n",
    "\n",
    "save_error = False\n",
    "\n",
    "n_choices = 10 # Number of subsamples to take\n",
    "delta = 50 * dt\n",
    "NRMSE_all_FDT = utils_emulator.evaluate_ensemble('FDT', z_ensemble, z_mean, None, rho, scenarios, n_ensemble,\n",
    "                                                 n_choices, dt=dt, cubLor=True, rho_base=rho_base, t_vec=t_vec_scen,\n",
    "                                                 baseline_mean=baseline_mean, z_base_ensemble=z_base_ensemble,\n",
    "                                                 z_pert_ensemble=z_pert_ensemble, delta=delta)\n",
    "\n",
    "if save_error:\n",
    "  utils_emulator.save_results(NRMSE_all_FDT, 'exp4_II_FDT_error_ensemble')"
   ]
  },
  {
   "cell_type": "markdown",
   "metadata": {},
   "source": [
    "### Method III: Deconvolution"
   ]
  },
  {
   "cell_type": "code",
   "execution_count": null,
   "metadata": {},
   "outputs": [],
   "source": [
    "save_error = False\n",
    "\n",
    "n_choices = 10 # Number of subsamples to take\n",
    "NRMSE_all_deconvolve = utils_emulator.evaluate_ensemble('deconvolve', z_ensemble, z_mean, None, rho, scenarios, n_ensemble,\n",
    "                                                        n_choices, dt=dt, cubLor=True, rho_base=rho_base, t_vec=t_vec_scen,\n",
    "                                                        baseline_mean=baseline_mean)\n",
    "\n",
    "if save_error:\n",
    "  utils_emulator.save_results(NRMSE_all_deconvolve, 'exp4_III_deconv_error_ensemble')"
   ]
  },
  {
   "cell_type": "markdown",
   "metadata": {},
   "source": [
    "### Method IV: Modal Fit"
   ]
  },
  {
   "cell_type": "code",
   "execution_count": null,
   "metadata": {},
   "outputs": [],
   "source": [
    "save_error = False\n",
    "\n",
    "n_choices = 10 # Number of subsamples to take\n",
    "n_modes, n_boxes = 1, 1\n",
    "NRMSE_all_modal = utils_emulator.evaluate_ensemble('modal', z_ensemble, z_mean, None, rho, scenarios, n_ensemble,\n",
    "                                                   n_choices, dt=dt, cubLor=True, rho_base=rho_base, t_vec=t_vec_scen,\n",
    "                                                   baseline_mean=baseline_mean, n_modes=n_modes, n_boxes=n_boxes)\n",
    "\n",
    "if save_error:\n",
    "  utils_emulator.save_results(NRMSE_all_modal, 'exp4_IV_modal_error_ensemble')"
   ]
  },
  {
   "cell_type": "markdown",
   "metadata": {},
   "source": [
    "### Method V: DMD"
   ]
  },
  {
   "cell_type": "code",
   "execution_count": null,
   "metadata": {},
   "outputs": [],
   "source": [
    "save_error = False\n",
    "\n",
    "n_choices = 10                # Number of subsamples to take\n",
    "n_steps   = len(t_vec_scen)            # No. timesteps\n",
    "w0        = np.array([baseline_mean[2]]) # Initial condition\n",
    "NRMSE_all_DMD = utils_emulator.evaluate_ensemble('DMD', z_ensemble, z_mean, None, rho, scenarios, n_ensemble,\n",
    "                                                 n_choices, dt=dt, cubLor=True, rho_base=rho_base, t_vec=t_vec_scen,\n",
    "                                                 baseline_mean=baseline_mean, n_boxes=n_boxes, w0=w0, n_steps=n_steps)\n",
    "\n",
    "if save_error:\n",
    "  utils_emulator.save_results(NRMSE_all_DMD, 'exp4_V_DMD_error_ensemble')"
   ]
  },
  {
   "cell_type": "markdown",
   "metadata": {},
   "source": [
    "### Method VI: EDMD"
   ]
  },
  {
   "cell_type": "code",
   "execution_count": null,
   "metadata": {},
   "outputs": [],
   "source": [
    "save_error = False\n",
    "\n",
    "n_choices = 10                # Number of subsamples to take\n",
    "n_steps   = len(t_vec_scen)            # No. timesteps\n",
    "w0        = np.zeros(n_boxes) # Initial condition\n",
    "\n",
    "# Basis functions\n",
    "w_dict = utils_emulator.Vector_Dict(method='hermite', degree=1)\n",
    "F_dict = utils_emulator.Vector_Dict(method='hermite', degree=1)\n",
    "NRMSE_all_EDMD = utils_emulator.evaluate_ensemble('EDMD', z_ensemble, z_mean, None, rho, scenarios, n_ensemble,\n",
    "                                                 n_choices, dt=dt, cubLor=True, rho_base=rho_base, t_vec=t_vec_scen,\n",
    "                                                 baseline_mean=baseline_mean, n_boxes=n_boxes, w0=w0, n_steps=n_steps,\n",
    "                                                 w_dict=w_dict, F_dict=F_dict)\n",
    "\n",
    "if save_error:\n",
    "  utils_emulator.save_results(NRMSE_all_EDMD, 'exp4_VI_EDMD_error_ensemble')"
   ]
  },
  {
   "cell_type": "code",
   "execution_count": null,
   "metadata": {},
   "outputs": [],
   "source": []
  }
 ],
 "metadata": {
  "interpreter": {
   "hash": "715d726636e7a1d1bf7cb3b41aa062e13e384a23b67cc1ed6fea1546dd61fe44"
  },
  "kernelspec": {
   "display_name": "Python 3.13.2 ('research')",
   "language": "python",
   "name": "python3"
  },
  "language_info": {
   "codemirror_mode": {
    "name": "ipython",
    "version": 3
   },
   "file_extension": ".py",
   "mimetype": "text/x-python",
   "name": "python",
   "nbconvert_exporter": "python",
   "pygments_lexer": "ipython3",
   "version": "3.13.2"
  },
  "orig_nbformat": 4
 },
 "nbformat": 4,
 "nbformat_minor": 2
}
