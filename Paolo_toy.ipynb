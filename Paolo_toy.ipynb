{
 "cells": [
  {
   "cell_type": "code",
   "execution_count": 1,
   "metadata": {},
   "outputs": [],
   "source": [
    "import BudykoSellers\n",
    "import emulator_utils\n",
    "import numpy as np\n",
    "import matplotlib.pyplot as plt\n",
    "\n",
    "plt.rcParams['figure.figsize'] = [12, 4]\n",
    "plt.rcParams.update({'font.size': 16})\n",
    "plt.rcParams.update({\n",
    "    \"text.usetex\": True,\n",
    "    \"font.family\": \"serif\",  # Use a LaTeX-compatible serif font\n",
    "    \"font.serif\": [\"Computer Modern Roman\"],  # Or another LaTeX font\n",
    "})\n",
    "\n",
    "%load_ext autoreload\n",
    "%autoreload 2"
   ]
  },
  {
   "cell_type": "markdown",
   "metadata": {},
   "source": [
    "## Toy to test solving for heat capacity, feedback parameter, and diffusivity from data"
   ]
  },
  {
   "cell_type": "markdown",
   "metadata": {},
   "source": [
    "#### Exp. 1: Uncoupled 3 box"
   ]
  },
  {
   "cell_type": "code",
   "execution_count": 153,
   "metadata": {},
   "outputs": [
    {
     "name": "stdout",
     "output_type": "stream",
     "text": [
      "Unexpected exception formatting exception. Falling back to standard exception\n"
     ]
    },
    {
     "name": "stderr",
     "output_type": "stream",
     "text": [
      "Traceback (most recent call last):\n",
      "  File \"/Users/chriswomack/anaconda3/envs/research/lib/python3.12/site-packages/IPython/core/interactiveshell.py\", line 3526, in run_code\n",
      "    exec(code_obj, self.user_global_ns, self.user_ns)\n",
      "  File \"/var/folders/5v/9rw_h5d56d57jgsmbk2dfb980000gn/T/ipykernel_185/1008608681.py\", line 1, in <module>\n",
      "    out_Abrupt = BudykoSellers.Run_Budyko_Sellers(exp_flag=3)\n",
      "                 ^^^^^^^^^^^^^^^^^^^^^^^^^^^^^^^^^^^^^^^^^^^^\n",
      "  File \"/Users/chriswomack/Documents/PhD/Project 1/BudykoSellers.py\", line 345, in Run_Budyko_Sellers\n",
      "    return SolverBudykoSellers(const, grid, params, init, time)\n",
      "           ^^^^^^^^^^^^^^^^^^^^^^^^^^^^^^^^^^^^^^^^^^^^^^^^^^^^\n",
      "  File \"/Users/chriswomack/Documents/PhD/Project 1/BudykoSellers.py\", line 70, in SolverBudykoSellers\n",
      "    NZ = stag_z.shape[1] - 1\n",
      "         ~~~~~~~~~~~~^^^\n",
      "IndexError: tuple index out of range\n",
      "\n",
      "During handling of the above exception, another exception occurred:\n",
      "\n",
      "Traceback (most recent call last):\n",
      "  File \"/Users/chriswomack/anaconda3/envs/research/lib/python3.12/site-packages/IPython/core/interactiveshell.py\", line 2120, in showtraceback\n",
      "    stb = self.InteractiveTB.structured_traceback(\n",
      "          ^^^^^^^^^^^^^^^^^^^^^^^^^^^^^^^^^^^^^^^^\n",
      "  File \"/Users/chriswomack/anaconda3/envs/research/lib/python3.12/site-packages/IPython/core/ultratb.py\", line 1435, in structured_traceback\n",
      "    return FormattedTB.structured_traceback(\n",
      "           ^^^^^^^^^^^^^^^^^^^^^^^^^^^^^^^^^\n",
      "  File \"/Users/chriswomack/anaconda3/envs/research/lib/python3.12/site-packages/IPython/core/ultratb.py\", line 1326, in structured_traceback\n",
      "    return VerboseTB.structured_traceback(\n",
      "           ^^^^^^^^^^^^^^^^^^^^^^^^^^^^^^^\n",
      "  File \"/Users/chriswomack/anaconda3/envs/research/lib/python3.12/site-packages/IPython/core/ultratb.py\", line 1173, in structured_traceback\n",
      "    formatted_exception = self.format_exception_as_a_whole(etype, evalue, etb, number_of_lines_of_context,\n",
      "                          ^^^^^^^^^^^^^^^^^^^^^^^^^^^^^^^^^^^^^^^^^^^^^^^^^^^^^^^^^^^^^^^^^^^^^^^^^^^^^^^^\n",
      "  File \"/Users/chriswomack/anaconda3/envs/research/lib/python3.12/site-packages/IPython/core/ultratb.py\", line 1088, in format_exception_as_a_whole\n",
      "    frames.append(self.format_record(record))\n",
      "                  ^^^^^^^^^^^^^^^^^^^^^^^^^^\n",
      "  File \"/Users/chriswomack/anaconda3/envs/research/lib/python3.12/site-packages/IPython/core/ultratb.py\", line 970, in format_record\n",
      "    frame_info.lines, Colors, self.has_colors, lvals\n",
      "    ^^^^^^^^^^^^^^^^\n",
      "  File \"/Users/chriswomack/anaconda3/envs/research/lib/python3.12/site-packages/IPython/core/ultratb.py\", line 792, in lines\n",
      "    return self._sd.lines\n",
      "           ^^^^^^^^^^^^^^\n",
      "  File \"/Users/chriswomack/anaconda3/envs/research/lib/python3.12/site-packages/stack_data/utils.py\", line 145, in cached_property_wrapper\n",
      "    value = obj.__dict__[self.func.__name__] = self.func(obj)\n",
      "                                               ^^^^^^^^^^^^^^\n",
      "  File \"/Users/chriswomack/anaconda3/envs/research/lib/python3.12/site-packages/stack_data/core.py\", line 698, in lines\n",
      "    pieces = self.included_pieces\n",
      "             ^^^^^^^^^^^^^^^^^^^^\n",
      "  File \"/Users/chriswomack/anaconda3/envs/research/lib/python3.12/site-packages/stack_data/utils.py\", line 145, in cached_property_wrapper\n",
      "    value = obj.__dict__[self.func.__name__] = self.func(obj)\n",
      "                                               ^^^^^^^^^^^^^^\n",
      "  File \"/Users/chriswomack/anaconda3/envs/research/lib/python3.12/site-packages/stack_data/core.py\", line 649, in included_pieces\n",
      "    pos = scope_pieces.index(self.executing_piece)\n",
      "                             ^^^^^^^^^^^^^^^^^^^^\n",
      "  File \"/Users/chriswomack/anaconda3/envs/research/lib/python3.12/site-packages/stack_data/utils.py\", line 145, in cached_property_wrapper\n",
      "    value = obj.__dict__[self.func.__name__] = self.func(obj)\n",
      "                                               ^^^^^^^^^^^^^^\n",
      "  File \"/Users/chriswomack/anaconda3/envs/research/lib/python3.12/site-packages/stack_data/core.py\", line 628, in executing_piece\n",
      "    return only(\n",
      "           ^^^^^\n",
      "  File \"/Users/chriswomack/anaconda3/envs/research/lib/python3.12/site-packages/executing/executing.py\", line 164, in only\n",
      "    raise NotOneValueFound('Expected one value, found 0')\n",
      "executing.executing.NotOneValueFound: Expected one value, found 0\n"
     ]
    }
   ],
   "source": [
    "out_Abrupt = BudykoSellers.Run_Budyko_Sellers(exp_flag=3)\n",
    "T_Abrupt = out_Abrupt['T_ts']"
   ]
  },
  {
   "cell_type": "code",
   "execution_count": 89,
   "metadata": {},
   "outputs": [
    {
     "data": {
      "image/png": "[encoded data removed]",
      "text/plain": [
       "<Figure size 1200x400 with 1 Axes>"
      ]
     },
     "metadata": {},
     "output_type": "display_data"
    }
   ],
   "source": [
    "BudykoSellers.plot_BudykoSellers(out_Abrupt)"
   ]
  },
  {
   "cell_type": "code",
   "execution_count": 141,
   "metadata": {},
   "outputs": [
    {
     "name": "stdout",
     "output_type": "stream",
     "text": [
      "3\n",
      "(4, 250)\n"
     ]
    }
   ],
   "source": [
    "F = 3.7*np.ones((2,251))\n",
    "A_DMD, B_DMD = emulator_utils.method_1a_DMD(np.squeeze(T_Abrupt), F)\n",
    "C = np.divide(1,np.sum(B_DMD,axis=1))\n",
    "lam = np.zeros(len(C))\n",
    "for i in range(len(C)):\n",
    "  lam[i] = -(A_DMD[i,i] - 1)*C[i]"
   ]
  },
  {
   "cell_type": "code",
   "execution_count": 91,
   "metadata": {},
   "outputs": [
    {
     "name": "stdout",
     "output_type": "stream",
     "text": [
      "[190.69120692   1.7469568 ] [0.67035401 0.85999572]\n"
     ]
    }
   ],
   "source": [
    "print(C, lam)"
   ]
  },
  {
   "cell_type": "markdown",
   "metadata": {},
   "source": [
    "#### Exp. 2: Coupled 3-box"
   ]
  },
  {
   "cell_type": "code",
   "execution_count": 92,
   "metadata": {},
   "outputs": [
    {
     "name": "stderr",
     "output_type": "stream",
     "text": [
      "100%|██████████| 365239/365239 [00:07<00:00, 51324.66it/s]\n",
      "/Users/chriswomack/Documents/PhD/Project 1/BudykoSellers.py:268: UserWarning: Simulation has not reached equilibirum (diseq > 1e-3 W m-2)\n",
      "  warnings.warn('Simulation has not reached equilibirum (diseq > 1e-3 W m-2)')\n"
     ]
    }
   ],
   "source": [
    "out_Diff_Abrupt = BudykoSellers.Run_Budyko_Sellers(exp_flag=2)\n",
    "T_Diff_Abrupt = out_Diff_Abrupt['T_ts']"
   ]
  },
  {
   "cell_type": "code",
   "execution_count": 93,
   "metadata": {},
   "outputs": [
    {
     "data": {
      "image/png": "[encoded data removed]",
      "text/plain": [
       "<Figure size 1200x400 with 1 Axes>"
      ]
     },
     "metadata": {},
     "output_type": "display_data"
    }
   ],
   "source": [
    "BudykoSellers.plot_BudykoSellers(out_Diff_Abrupt)"
   ]
  },
  {
   "cell_type": "code",
   "execution_count": 133,
   "metadata": {},
   "outputs": [
    {
     "name": "stdout",
     "output_type": "stream",
     "text": [
      "3\n",
      "(4, 250)\n"
     ]
    }
   ],
   "source": [
    "F = 3.7*np.ones((2,251))\n",
    "A_DMD, B_DMD = emulator_utils.method_1a_DMD(np.squeeze(T_Diff_Abrupt), F)\n",
    "C = np.divide(1,np.sum(B_DMD,axis=1))"
   ]
  },
  {
   "cell_type": "code",
   "execution_count": 111,
   "metadata": {},
   "outputs": [
    {
     "data": {
      "text/plain": [
       "array([131.97875094,   2.18610256])"
      ]
     },
     "execution_count": 111,
     "metadata": {},
     "output_type": "execute_result"
    }
   ],
   "source": [
    "C"
   ]
  },
  {
   "cell_type": "code",
   "execution_count": 134,
   "metadata": {},
   "outputs": [
    {
     "data": {
      "text/plain": [
       "array([[0.98948929, 0.00498767],\n",
       "       [0.30923284, 0.29755812]])"
      ]
     },
     "execution_count": 134,
     "metadata": {},
     "output_type": "execute_result"
    }
   ],
   "source": [
    "A_DMD"
   ]
  },
  {
   "cell_type": "code",
   "execution_count": 74,
   "metadata": {},
   "outputs": [],
   "source": [
    "T_I = np.zeros((3,250))\n",
    "F_I = np.zeros((3,250))\n",
    "for i in range(1,250):\n",
    "  T_I[:,i] = np.trapz(np.squeeze(T_Diff_Abrupt[0:3,:,0:i]))\n",
    "  F_I[:,i] = np.trapz(F[:,0:i])"
   ]
  },
  {
   "cell_type": "code",
   "execution_count": 78,
   "metadata": {},
   "outputs": [
    {
     "data": {
      "text/plain": [
       "(3, 250)"
      ]
     },
     "execution_count": 78,
     "metadata": {},
     "output_type": "execute_result"
    }
   ],
   "source": [
    "F_I.shape"
   ]
  },
  {
   "cell_type": "code",
   "execution_count": 79,
   "metadata": {},
   "outputs": [],
   "source": [
    "Omega = np.concatenate([np.squeeze(T_Diff_Abrupt[0:3,:,1:]),T_I])\n",
    "L = F_I @ np.linalg.pinv(Omega)\n",
    "\n",
    "A, B = L[:,:3], L[:,3:]"
   ]
  },
  {
   "cell_type": "code",
   "execution_count": 84,
   "metadata": {},
   "outputs": [
    {
     "data": {
      "text/plain": [
       "array([[ 18.67473727,  -1.08361696, -23.46534319],\n",
       "       [ 18.67473727,  -1.08361696, -23.46534319],\n",
       "       [ 18.67473727,  -1.08361696, -23.46534319]])"
      ]
     },
     "execution_count": 84,
     "metadata": {},
     "output_type": "execute_result"
    }
   ],
   "source": [
    "B"
   ]
  },
  {
   "cell_type": "code",
   "execution_count": 113,
   "metadata": {},
   "outputs": [
    {
     "name": "stdout",
     "output_type": "stream",
     "text": [
      "5\n",
      "(500, 7)\n"
     ]
    }
   ],
   "source": [
    "import numpy as np\n",
    "\n",
    "def solve_structured_dmdc(X, F, Y):\n",
    "    \"\"\"\n",
    "    Solve min || Y - A X - B F ||_F^2 \n",
    "    subject to A = [[a, b], [b, d]] (i.e. off-diagonal entries equal).\n",
    "    \n",
    "    Parameters\n",
    "    ----------\n",
    "    X : ndarray of shape (2, m)\n",
    "        Current-state snapshots.\n",
    "    F : ndarray of shape (r, m)\n",
    "        Input snapshots.\n",
    "    Y : ndarray of shape (2, m)\n",
    "        Next-state snapshots.\n",
    "\n",
    "    Returns\n",
    "    -------\n",
    "    A : ndarray of shape (2, 2)\n",
    "        Best-fit A with the given structure.\n",
    "    B : ndarray of shape (2, r)\n",
    "        Best-fit B.\n",
    "    \"\"\"\n",
    "\n",
    "    # Dimensions\n",
    "    d, m = X.shape    # d=2 in this example\n",
    "    r, mF = F.shape\n",
    "    assert m == mF, \"X and F must have same number of columns\"\n",
    "    assert Y.shape == (d, m), \"Y must be 2 x m\"\n",
    "\n",
    "    # We have 3 unknowns for A (a, b, d) plus 2*r unknowns for B => total 3 + 2r\n",
    "    num_unknowns = 3 + 2*r\n",
    "\n",
    "    # We'll build:\n",
    "    #   M : (2*m) x (3 + 2*r)\n",
    "    #   Y_vec : (2*m) x 1\n",
    "    M = np.zeros((2*m, num_unknowns))\n",
    "    Y_vec = np.zeros(2*m)\n",
    "\n",
    "    # Fill M and Y_vec row by row\n",
    "    # Row ordering: for each snapshot i, first row => y^{(i)}[0], second row => y^{(i)}[1]\n",
    "    for i in range(m):\n",
    "        x1 = X[0, i]  # x_n^(i)[0]\n",
    "        x2 = X[1, i]  # x_n^(i)[1]\n",
    "        f_i = F[:, i] # shape (r,)\n",
    "\n",
    "        # Next-state is Y[:, i]\n",
    "        y1 = Y[0, i] \n",
    "        y2 = Y[1, i]\n",
    "\n",
    "        row1 = 2*i\n",
    "        row2 = 2*i + 1\n",
    "\n",
    "        # row1 corresponds to:  y1 = a*x1 + b*x2 + sum_k B[0,k] * f_i[k]\n",
    "        # => coefficients for [a, b, d, B_{1,1..r}, B_{2,1..r}]\n",
    "        M[row1, 0] = x1        # a\n",
    "        M[row1, 1] = x2        # b\n",
    "        M[row1, 2] = 0.0       # d\n",
    "        # B_{1, k} multiplies f_i[k], so put those in the next r columns\n",
    "        M[row1, 3 : 3+r] = f_i\n",
    "        # B_{2, k} does not appear in row1, so zero out\n",
    "        M[row1, 3+r : 3+2*r] = 0.0\n",
    "\n",
    "        Y_vec[row1] = y1\n",
    "\n",
    "        # row2 corresponds to:  y2 = b*x1 + d*x2 + sum_k B[1,k] * f_i[k]\n",
    "        M[row2, 0] = 0.0       # a\n",
    "        M[row2, 1] = x1        # b\n",
    "        M[row2, 2] = x2        # d\n",
    "        # B_{1,k} does not appear in row2:\n",
    "        M[row2, 3 : 3+r] = 0.0\n",
    "        # B_{2, k} multiplies f_i[k] in row2\n",
    "        M[row2, 3+r : 3+2*r] = f_i\n",
    "\n",
    "        Y_vec[row2] = y2\n",
    "\n",
    "    print(np.linalg.matrix_rank(M))\n",
    "    print(M.shape)\n",
    "\n",
    "    # Solve the least-squares problem:  M * theta ~ Y_vec\n",
    "    theta, residuals, rank, svals = np.linalg.lstsq(M, Y_vec, rcond=None)\n",
    "    # theta is size (3 + 2*r,)\n",
    "\n",
    "    # Parse out a, b, d\n",
    "    a = theta[0]\n",
    "    b = theta[1]\n",
    "    d_ = theta[2]  # d is a Python builtin, so I'll name it d_\n",
    "\n",
    "    # Parse out B => B[0,:] and B[1,:]\n",
    "    B_row1 = theta[3 : 3+r]\n",
    "    B_row2 = theta[3+r : 3+2*r]\n",
    "    B_matrix = np.vstack([B_row1, B_row2])\n",
    "\n",
    "    # Construct A\n",
    "    A = np.array([[a, b],\n",
    "                  [b, d_]])\n",
    "\n",
    "    return A, B_matrix\n",
    "\n",
    "\n",
    "X = np.squeeze(T_Diff_Abrupt[0:3,:,:-1])\n",
    "Y = np.squeeze(T_Diff_Abrupt[0:3,:,1:])\n",
    "\n",
    "# Solve\n",
    "A_est, B_est = solve_structured_dmdc(X, F[:,:-1], Y)\n"
   ]
  },
  {
   "cell_type": "code",
   "execution_count": 135,
   "metadata": {},
   "outputs": [
    {
     "name": "stdout",
     "output_type": "stream",
     "text": [
      "5\n",
      "(500, 5)\n"
     ]
    }
   ],
   "source": [
    "import numpy as np\n",
    "\n",
    "def solve_structured_dmdc_offdiagA_diagB(X, F, Y):\n",
    "    \"\"\"\n",
    "    Solve the constrained least-squares problem:\n",
    "        min_{A,B} || Y - A X - B F ||_F^2\n",
    "    subject to:\n",
    "        A = [[a, b],\n",
    "             [b, d]],\n",
    "        B = [[p, 0],\n",
    "             [0, q]].\n",
    "    \n",
    "    Parameters\n",
    "    ----------\n",
    "    X : ndarray of shape (2, m)\n",
    "        Current-state snapshots (2D state).\n",
    "    F : ndarray of shape (2, m)\n",
    "        Input snapshots (2D input).\n",
    "    Y : ndarray of shape (2, m)\n",
    "        Next-state snapshots.\n",
    "    \n",
    "    Returns\n",
    "    -------\n",
    "    A : ndarray of shape (2, 2)\n",
    "        Fitted A.\n",
    "    B : ndarray of shape (2, 2)\n",
    "        Fitted B.\n",
    "    \"\"\"\n",
    "    # Basic dimension checks\n",
    "    d, m = X.shape     # Here d=2\n",
    "    r, mF = F.shape    # Here r=2\n",
    "    assert m == mF, \"X and F must have the same number of columns\"\n",
    "    assert Y.shape == (2, m), \"Y must be 2 x m\"\n",
    "\n",
    "    # We have 5 unknowns: a, b, d, p, q\n",
    "    num_unknowns = 5\n",
    "\n",
    "    # We'll build a (2*m) x 5 matrix\n",
    "    M = np.zeros((2*m, num_unknowns))\n",
    "    y_vec = np.zeros(2*m)\n",
    "\n",
    "    for i in range(m):\n",
    "        x1, x2 = X[0, i], X[1, i]\n",
    "        f1, f2 = F[0, i], F[1, i]\n",
    "        y1, y2 = Y[0, i], Y[1, i]\n",
    "\n",
    "        # row indices for snapshot i\n",
    "        row1 = 2*i\n",
    "        row2 = 2*i + 1\n",
    "\n",
    "        # Equation 1: y1 = a*x1 + b*x2 + p*f1\n",
    "        # Map to [a, b, d, p, q]\n",
    "        # => a multiplies x1, b multiplies x2, d does not appear, p multiplies f1, q does not appear\n",
    "        M[row1, 0] = x1    # a\n",
    "        M[row1, 1] = x2    # b\n",
    "        M[row1, 2] = 0.0   # d\n",
    "        M[row1, 3] = f1    # p\n",
    "        M[row1, 4] = 0.0   # q\n",
    "\n",
    "        y_vec[row1] = y1\n",
    "\n",
    "        # Equation 2: y2 = b*x1 + d*x2 + q*f2\n",
    "        # => a does not appear, b multiplies x1, d multiplies x2, p does not appear, q multiplies f2\n",
    "        M[row2, 0] = 0.0   # a\n",
    "        M[row2, 1] = x1    # b\n",
    "        M[row2, 2] = x2    # d\n",
    "        M[row2, 3] = 0.0   # p\n",
    "        M[row2, 4] = f2    # q\n",
    "\n",
    "        y_vec[row2] = y2\n",
    "\n",
    "    print(np.linalg.matrix_rank(M))\n",
    "    print(M.shape)\n",
    "\n",
    "    # Solve least squares: M * theta ~ y_vec\n",
    "    theta, residuals, rank, svals = np.linalg.lstsq(M, y_vec, rcond=None)\n",
    "    # theta = (a, b, d, p, q)\n",
    "\n",
    "    # Reconstruct A, B\n",
    "    a, b, d_ = theta[0], theta[1], theta[2]\n",
    "    p, q_ = theta[3], theta[4]\n",
    "\n",
    "    A = np.array([[a,   b],\n",
    "                  [b,  d_]])\n",
    "    B = np.array([[p,   0.],\n",
    "                  [0.,  q_]])\n",
    "\n",
    "    return A, B\n",
    "\n",
    "X = np.squeeze(T_Abrupt[0:3,:,:-1])\n",
    "Y = np.squeeze(T_Abrupt[0:3,:,1:])\n",
    "\n",
    "# Solve\n",
    "A_est, B_est = solve_structured_dmdc_offdiagA_diagB(X, F[:,:-1], Y)\n",
    "\n"
   ]
  },
  {
   "cell_type": "code",
   "execution_count": 139,
   "metadata": {},
   "outputs": [
    {
     "data": {
      "text/plain": [
       "array([[ 9.96485065e-01, -3.82574151e-06],\n",
       "       [-3.82574151e-06,  5.07717353e-01]])"
      ]
     },
     "execution_count": 139,
     "metadata": {},
     "output_type": "execute_result"
    }
   ],
   "source": [
    "A_est"
   ]
  },
  {
   "cell_type": "code",
   "execution_count": 142,
   "metadata": {},
   "outputs": [
    {
     "data": {
      "text/plain": [
       "array([[ 9.96484610e-01,  2.33885991e-06],\n",
       "       [-4.52907466e-06,  5.07717808e-01]])"
      ]
     },
     "execution_count": 142,
     "metadata": {},
     "output_type": "execute_result"
    }
   ],
   "source": [
    "A_DMD"
   ]
  },
  {
   "cell_type": "code",
   "execution_count": null,
   "metadata": {},
   "outputs": [],
   "source": []
  }
 ],
 "metadata": {
  "interpreter": {
   "hash": "715d726636e7a1d1bf7cb3b41aa062e13e384a23b67cc1ed6fea1546dd61fe44"
  },
  "kernelspec": {
   "display_name": "Python 3.12.3 ('research')",
   "language": "python",
   "name": "python3"
  },
  "language_info": {
   "codemirror_mode": {
    "name": "ipython",
    "version": 3
   },
   "file_extension": ".py",
   "mimetype": "text/x-python",
   "name": "python",
   "nbconvert_exporter": "python",
   "pygments_lexer": "ipython3",
   "version": "3.12.2"
  },
  "orig_nbformat": 4
 },
 "nbformat": 4,
 "nbformat_minor": 2
}
