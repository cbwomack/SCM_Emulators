{
 "cells": [
  {
   "cell_type": "code",
   "execution_count": null,
   "metadata": {},
   "outputs": [],
   "source": [
    "import utils_BudykoSellers\n",
    "import utils_emulator\n",
    "import numpy as np\n",
    "\n",
    "%load_ext autoreload\n",
    "%autoreload 2"
   ]
  },
  {
   "cell_type": "markdown",
   "metadata": {},
   "source": [
    "## Experiment 3: Noisy Three Box (noise)\n",
    "\n",
    "This notebook runs the noisy three box model for the following scenarios and emulation techniques:\n",
    "\n",
    "Scenarios:\n",
    "1. Abrupt - An abrupt doubling of CO2 concentration; corresponds roughly to the *Abrupt2xCO2* CMIP experiment.\n",
    "2. High Emissions - An exponential increase of CO2 concentration in time; corresponds roughly to *SSP585*.\n",
    "3. Plateau - An increase in CO2 concentration in time that follows a hyperbolic tangent, increasing exponentially and then tapering off; corresponds roughly to *SSP245*.\n",
    "4. Overshoot - An increase in CO2 concentration in time that follows a Gaussian profile, increasing and decreasingly rapidly; inspired by *SSP119*, but decreases more quickly.\n",
    "\n",
    "Emulators:\n",
    "1. Pattern Scaling - Time-invariant pattern based on linear regression from global mean temperature to local temperature.\n",
    "2. Fluctuation Dissipation Theorem - Response functions derived through perturbation experiment.\n",
    "3. Deconvolution - Response functions solved for from any general experiment.\n",
    "4. Modal Fitting - Response functions fit from any general experiment.\n",
    "5. Dynamic Mode Decomposition (DMD) - Approximating system dynamics with a linear operator.\n",
    "6. Extended DMD - Approximating system dynamics with nonlinear basis functions."
   ]
  },
  {
   "cell_type": "markdown",
   "metadata": {},
   "source": [
    "### Setup and Run Scenarios\n",
    "\n",
    "Required before creating/evaluating emulators."
   ]
  },
  {
   "cell_type": "code",
   "execution_count": null,
   "metadata": {},
   "outputs": [],
   "source": [
    "# Required variables\n",
    "t_end = 251\n",
    "t = np.arange(0,t_end)\n",
    "n_boxes = 3\n",
    "\n",
    "# Ensemble parameters\n",
    "n_ensemble = 50   # Ensemble members\n",
    "xi         = 0.15 # Noise strength\n",
    "\n",
    "# Initialize forcing vectors and run scenarios\n",
    "scenarios = ['Abrupt','High Emissions','Plateau','Overshoot']\n",
    "full_outputs_ensemble, forcings_ensemble, T_out_ensemble = {}, {}, {}\n",
    "full_outputs_single, forcings_single, T_out_single = {}, {}, {}\n",
    "for i, scen in enumerate(scenarios):\n",
    "  full_outputs_ensemble[scen], forcings_ensemble[scen], T_out_ensemble[scen] = [], [] ,[]\n",
    "\n",
    "  # Run deterministic scenarios once\n",
    "  full_outputs_single[scen] = utils_BudykoSellers.Run_Budyko_Sellers(scen_flag=i, n_boxes=n_boxes, diff_flag=1)\n",
    "  forcings_single[scen] = np.tile(full_outputs_single[scen]['forcing_ts'], (n_boxes, 1))\n",
    "  T_out_single[scen] = np.squeeze(full_outputs_single[scen]['T_ts'])[0:n_boxes,:]\n",
    "\n",
    "  # Iterate over all ensemble members\n",
    "  for n in range(n_ensemble):\n",
    "    full_outputs_ensemble[scen].append(utils_BudykoSellers.Run_Budyko_Sellers(scen_flag=i, xi=xi, n_boxes=n_boxes, diff_flag=1))\n",
    "    forcings_ensemble[scen].append(np.tile(full_outputs_ensemble[scen][-1]['forcing_ts'], (n_boxes, 1)))\n",
    "    T_out_ensemble[scen].append(np.squeeze(full_outputs_ensemble[scen][-1]['T_ts'])[0:n_boxes,:])\n"
   ]
  },
  {
   "cell_type": "markdown",
   "metadata": {},
   "source": [
    "### Take mean over the entire ensemble (for calculations later)"
   ]
  },
  {
   "cell_type": "code",
   "execution_count": null,
   "metadata": {},
   "outputs": [],
   "source": [
    "mean_forcing, mean_T = {}, {}\n",
    "for scen in scenarios:\n",
    "  mean_forcing[scen] = np.mean(np.stack(forcings_ensemble[scen], axis=0), axis=0)\n",
    "  mean_T[scen] = np.mean(np.stack(T_out_ensemble[scen], axis=0), axis=0)"
   ]
  },
  {
   "cell_type": "markdown",
   "metadata": {},
   "source": [
    "### Method I: Pattern Scaling\n",
    "\n",
    "#### Baseline performance"
   ]
  },
  {
   "cell_type": "code",
   "execution_count": null,
   "metadata": {},
   "outputs": [],
   "source": [
    "verbose    = False  # Show error output\n",
    "plot       = False  # Plot emulator performance\n",
    "save_error = False  # Save error output\n",
    "\n",
    "operator_PS, T_pred_PS, error_metrics_PS = utils_emulator.emulate_scenarios('PS', scenarios=scenarios, outputs=T_out_single, forcings=forcings_single, verbose=verbose)\n",
    "NRMSE_base_PS = utils_emulator.calc_base_NRMSE(error_metrics_PS, scenarios)\n",
    "\n",
    "if plot:\n",
    "  utils_emulator.plot_true_pred(T_out_single, T_pred_PS, scenarios, operator='PS')\n",
    "\n",
    "if save_error:\n",
    "  utils_emulator.save_results(error_metrics_PS, 'exp3_I_PS_error_single')"
   ]
  },
  {
   "cell_type": "markdown",
   "metadata": {},
   "source": [
    "#### Noisy performance"
   ]
  },
  {
   "cell_type": "code",
   "execution_count": null,
   "metadata": {},
   "outputs": [],
   "source": [
    "save_error = False\n",
    "\n",
    "n_choices = 10 # Number of subsamples to take\n",
    "NRMSE_all_PS = utils_emulator.evaluate_ensemble('PS', T_out_ensemble, mean_T, forcings_ensemble, mean_forcing, scenarios, n_ensemble, n_choices)\n",
    "\n",
    "if save_error:\n",
    "  utils_emulator.save_results(NRMSE_all_PS, 'exp3_I_PS_error_ensemble')"
   ]
  },
  {
   "cell_type": "markdown",
   "metadata": {},
   "source": [
    "### Method II: Fluctuation Dissipation Theorem\n",
    "\n",
    "Note: Since the noise here is added linearly, using the FDT over the entire ensemble leads to the same response function as in the baseline case. We therefore test this baseline against the noisy ensemble.\n",
    "\n",
    "#### Baseline performance"
   ]
  },
  {
   "cell_type": "code",
   "execution_count": null,
   "metadata": {},
   "outputs": [],
   "source": [
    "verbose    = False    # Show error output\n",
    "plot       = False    # Plot emulator performance\n",
    "save_error = False    # Save error output\n",
    "\n",
    "dt = 1 # Timestep (year)\n",
    "operator_FDT, T_pred_FDT, error_metrics_FDT = utils_emulator.emulate_scenarios('FDT', scenarios=scenarios, outputs=T_out_single, forcings=forcings_single, n_boxes=n_boxes, dt=dt, diff_flag=1, delta=1, verbose=verbose)\n",
    "\n",
    "if plot:\n",
    "  utils_emulator.plot_true_pred_FDT(T_out_single, T_pred_FDT, scenarios)\n",
    "\n",
    "if save_error:\n",
    "  utils_emulator.save_results(error_metrics_FDT, 'exp3_II_FDT_error_single')"
   ]
  },
  {
   "cell_type": "markdown",
   "metadata": {},
   "source": [
    "#### Noisy Performance"
   ]
  },
  {
   "cell_type": "code",
   "execution_count": null,
   "metadata": {},
   "outputs": [],
   "source": [
    "save_error = False\n",
    "\n",
    "n_choices = 10 # Number of subsamples to take\n",
    "dt        = 1  # Timestep (years)\n",
    "NRMSE_all_FDT = utils_emulator.evaluate_ensemble('FDT', T_out_ensemble, mean_T, forcings_ensemble, mean_forcing, scenarios, n_ensemble, n_choices, dt=dt, G_FDT=operator_FDT)\n",
    "\n",
    "if save_error:\n",
    "  utils_emulator.save_results(NRMSE_all_FDT, 'exp3_II_FDT_error_ensemble')"
   ]
  },
  {
   "cell_type": "markdown",
   "metadata": {},
   "source": [
    "### Method III: Deconvolution\n",
    "\n",
    "#### Baseline performance"
   ]
  },
  {
   "cell_type": "code",
   "execution_count": null,
   "metadata": {},
   "outputs": [],
   "source": [
    "verbose    = False   # Show error output\n",
    "plot       = False   # Plot emulator performance\n",
    "save_error = False   # Save error output\n",
    "\n",
    "dt = 1 # Timestep (year)\n",
    "operator_deconvolve, T_pred_deconvolve, error_metrics_deconvolve = utils_emulator.emulate_scenarios('deconvolve', scenarios=scenarios, outputs=T_out_single, forcings=forcings_single, dt=dt, regularize=True, verbose=verbose)\n",
    "NRMSE_base_deconvolve = utils_emulator.calc_base_NRMSE(error_metrics_deconvolve, scenarios)\n",
    "\n",
    "if plot:\n",
    "  utils_emulator.plot_true_pred(T_out_single, T_pred_deconvolve, scenarios, operator='deconvolve')\n",
    "\n",
    "if save_error:\n",
    "  utils_emulator.save_results(error_metrics_deconvolve, 'exp3_III_deconv_error_single')"
   ]
  },
  {
   "cell_type": "markdown",
   "metadata": {},
   "source": [
    "#### Noisy performance"
   ]
  },
  {
   "cell_type": "code",
   "execution_count": null,
   "metadata": {},
   "outputs": [],
   "source": [
    "save_error = False\n",
    "\n",
    "n_choices = 10 # Number of subsamples to take\n",
    "dt        = 1  # Timestep (years)\n",
    "NRMSE_all_deconvolve = utils_emulator.evaluate_ensemble('deconvolve', T_out_ensemble, mean_T, forcings_ensemble, mean_forcing, scenarios, n_ensemble, n_choices, dt=dt)\n",
    "\n",
    "if save_error:\n",
    "  utils_emulator.save_results(NRMSE_all_deconvolve, 'exp3_III_deconv_error_ensemble')"
   ]
  },
  {
   "cell_type": "markdown",
   "metadata": {},
   "source": [
    "### Method IV: Modal Fitting\n",
    "\n",
    "#### Baseline performance"
   ]
  },
  {
   "cell_type": "code",
   "execution_count": null,
   "metadata": {},
   "outputs": [],
   "source": [
    "verbose    = False   # Show error output and optimal parameters\n",
    "plot       = False   # Plot emulator performance\n",
    "save_error = False   # Save error output\n",
    "\n",
    "dt = 1 # Timestep (year)\n",
    "operator_modal, T_pred_modal, error_metrics_modal = utils_emulator.emulate_scenarios('modal', scenarios=scenarios, outputs=T_out_single, forcings=forcings_single, t=t, dt=dt, n_boxes=n_boxes, n_modes=3, verbose=verbose)\n",
    "NRMSE_base_modal = utils_emulator.calc_base_NRMSE(error_metrics_modal, scenarios)\n",
    "\n",
    "if plot:\n",
    "  utils_emulator.plot_true_pred(T_out_single, T_pred_modal, scenarios, operator='modal')\n",
    "\n",
    "if save_error:\n",
    "  utils_emulator.save_results(error_metrics_modal, 'exp3_IV_modal_error_single')"
   ]
  },
  {
   "cell_type": "markdown",
   "metadata": {},
   "source": [
    "#### Noisy performance"
   ]
  },
  {
   "cell_type": "code",
   "execution_count": null,
   "metadata": {},
   "outputs": [],
   "source": [
    "save_error = False\n",
    "\n",
    "n_choices = 10 # Number of subsamples to take\n",
    "dt        = 1  # Timestep (years)\n",
    "NRMSE_all_modal = utils_emulator.evaluate_ensemble('modal', T_out_ensemble, mean_T, forcings_ensemble, mean_forcing, scenarios, n_ensemble, n_choices, t=t, dt=dt, n_boxes=n_boxes, n_modes=3)\n",
    "\n",
    "if save_error:\n",
    "  utils_emulator.save_results(NRMSE_all_modal, 'exp3_IV_modal_error_ensemble')"
   ]
  },
  {
   "cell_type": "markdown",
   "metadata": {},
   "source": [
    "### Method V: Dynamic Mode Decomposition (DMD)\n",
    "\n",
    "#### Baseline performance"
   ]
  },
  {
   "cell_type": "code",
   "execution_count": null,
   "metadata": {},
   "outputs": [],
   "source": [
    "verbose    = False   # Show error output\n",
    "plot       = False   # Plot emulator performance\n",
    "save_error = False   # Save error output\n",
    "\n",
    "n_steps = len(t)            # No. timesteps\n",
    "w0      = np.zeros(n_boxes) # Initial condition\n",
    "operator_DMD, T_pred_DMD, error_metrics_DMD = utils_emulator.emulate_scenarios('DMD', scenarios=scenarios, outputs=T_out_single, forcings=forcings_single, w0=w0, t=t, n_steps=n_steps, n_boxes=n_boxes, verbose=verbose, regularize=True)\n",
    "NRMSE_base_DMD = utils_emulator.calc_base_NRMSE(error_metrics_DMD, scenarios)\n",
    "\n",
    "if plot:\n",
    "  utils_emulator.plot_true_pred(T_out_single, T_pred_DMD, scenarios, operator='DMD')\n",
    "\n",
    "if save_error:\n",
    "  utils_emulator.save_results(error_metrics_DMD, 'exp3_V_DMD_error_single')"
   ]
  },
  {
   "cell_type": "markdown",
   "metadata": {},
   "source": [
    "#### Noisy performance"
   ]
  },
  {
   "cell_type": "code",
   "execution_count": null,
   "metadata": {},
   "outputs": [],
   "source": [
    "save_error = False\n",
    "\n",
    "n_choices = 10                # Number of subsamples to take\n",
    "n_steps   = len(t)            # No. timesteps\n",
    "w0        = np.zeros(n_boxes) # Initial condition\n",
    "NRMSE_all_DMD = utils_emulator.evaluate_ensemble('DMD', T_out_ensemble, mean_T, forcings_ensemble, mean_forcing, scenarios, n_ensemble, n_choices, w0=w0, n_steps=n_steps)\n",
    "\n",
    "if save_error:\n",
    "  utils_emulator.save_results(NRMSE_all_DMD, 'exp3_V_DMD_error_ensemble')"
   ]
  },
  {
   "cell_type": "markdown",
   "metadata": {},
   "source": [
    "### Method VI: Extended DMD\n",
    "\n",
    "#### Baseline performance"
   ]
  },
  {
   "cell_type": "code",
   "execution_count": null,
   "metadata": {},
   "outputs": [],
   "source": [
    "verbose    = False   # Show error output\n",
    "plot       = False   # Plot emulator performance\n",
    "save_error = False   # Save error output\n",
    "\n",
    "n_steps = len(t)            # No. timesteps\n",
    "w0      = np.zeros(n_boxes) # Initial condition\n",
    "\n",
    "# Basis functions\n",
    "w_dict = utils_emulator.Vector_Dict(method='hermite', degree=1)\n",
    "F_dict = utils_emulator.Vector_Dict(method='hermite', degree=1)\n",
    "operator_EDMD, T_pred_EDMD, error_metrics_EDMD = utils_emulator.emulate_scenarios('EDMD', scenarios=scenarios, outputs=T_out_single, forcings=forcings_single, w0=w0, t=t, n_steps=n_steps, n_boxes=n_boxes, w_dict=w_dict, F_dict=F_dict, verbose=verbose)\n",
    "NRMSE_base_EDMD = utils_emulator.calc_base_NRMSE(error_metrics_EDMD, scenarios)\n",
    "\n",
    "if plot:\n",
    "  utils_emulator.plot_true_pred(T_out_single, T_pred_EDMD, scenarios, operator='EDMD')\n",
    "\n",
    "if save_error:\n",
    "  utils_emulator.save_results(error_metrics_EDMD, 'exp3_VI_EDMD_error_single')"
   ]
  },
  {
   "cell_type": "markdown",
   "metadata": {},
   "source": [
    "#### Noisy performance"
   ]
  },
  {
   "cell_type": "code",
   "execution_count": null,
   "metadata": {},
   "outputs": [],
   "source": [
    "save_error = False\n",
    "\n",
    "n_choices = 10                # Number of subsamples to take\n",
    "n_steps   = len(t)            # No. timesteps\n",
    "w0        = np.zeros(n_boxes) # Initial condition\n",
    "\n",
    "# Basis functions\n",
    "w_dict = utils_emulator.Vector_Dict(method='hermite', degree=1)\n",
    "F_dict = utils_emulator.Vector_Dict(method='hermite', degree=1)\n",
    "NRMSE_all_EDMD = utils_emulator.evaluate_ensemble('EDMD', T_out_ensemble, mean_T, forcings_ensemble, mean_forcing, scenarios, n_ensemble, n_choices, w0=w0, n_steps=n_steps, n_boxes=n_boxes, w_dict=w_dict, F_dict=F_dict)\n",
    "\n",
    "if save_error:\n",
    "  utils_emulator.save_results(NRMSE_all_EDMD, 'exp3_VI_EDMD_error_ensemble')"
   ]
  },
  {
   "cell_type": "code",
   "execution_count": null,
   "metadata": {},
   "outputs": [],
   "source": []
  }
 ],
 "metadata": {
  "interpreter": {
   "hash": "715d726636e7a1d1bf7cb3b41aa062e13e384a23b67cc1ed6fea1546dd61fe44"
  },
  "kernelspec": {
   "display_name": "Python 3.12.3 ('research')",
   "language": "python",
   "name": "python3"
  },
  "language_info": {
   "codemirror_mode": {
    "name": "ipython",
    "version": 3
   },
   "file_extension": ".py",
   "mimetype": "text/x-python",
   "name": "python",
   "nbconvert_exporter": "python",
   "pygments_lexer": "ipython3",
   "version": "3.13.2"
  },
  "orig_nbformat": 4
 },
 "nbformat": 4,
 "nbformat_minor": 2
}
